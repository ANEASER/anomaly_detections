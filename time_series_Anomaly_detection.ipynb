{
  "nbformat": 4,
  "nbformat_minor": 0,
  "metadata": {
    "colab": {
      "provenance": []
    },
    "kernelspec": {
      "name": "python3",
      "display_name": "Python 3"
    },
    "language_info": {
      "name": "python"
    }
  },
  "cells": [
    {
      "cell_type": "code",
      "execution_count": 87,
      "metadata": {
        "id": "FymkvqyshCP5"
      },
      "outputs": [],
      "source": [
        "import numpy as np\n",
        "import pandas as pd\n",
        "from keras.models import Sequential, Model"
      ]
    },
    {
      "cell_type": "code",
      "source": [
        "from keras.layers import LSTM , Input, Dropout, RepeatVector, TimeDistributed,Dense\n",
        "import matplotlib.pyplot as plt\n",
        "from sklearn.preprocessing import MinMaxScaler, StandardScaler\n",
        "import seaborn as sns"
      ],
      "metadata": {
        "id": "ybLTETMO8vuc"
      },
      "execution_count": 88,
      "outputs": []
    },
    {
      "cell_type": "code",
      "source": [
        "DF = pd.read_csv(\"/content/TSLA.csv\")\n",
        "df = DF[['Date','Close']]\n",
        "df['Date'] = pd.to_datetime(df['Date'])\n",
        "df.head(5)"
      ],
      "metadata": {
        "colab": {
          "base_uri": "https://localhost:8080/",
          "height": 310
        },
        "id": "caGnL9q_9XLT",
        "outputId": "e6c3aa18-24e9-4079-d35f-81c9adb844c6"
      },
      "execution_count": 89,
      "outputs": [
        {
          "output_type": "stream",
          "name": "stderr",
          "text": [
            "<ipython-input-89-047fb3290604>:3: SettingWithCopyWarning: \n",
            "A value is trying to be set on a copy of a slice from a DataFrame.\n",
            "Try using .loc[row_indexer,col_indexer] = value instead\n",
            "\n",
            "See the caveats in the documentation: https://pandas.pydata.org/pandas-docs/stable/user_guide/indexing.html#returning-a-view-versus-a-copy\n",
            "  df['Date'] = pd.to_datetime(df['Date'])\n"
          ]
        },
        {
          "output_type": "execute_result",
          "data": {
            "text/plain": [
              "        Date      Close\n",
              "0 2020-06-30  71.987335\n",
              "1 2020-07-01  74.641998\n",
              "2 2020-07-02  80.577332\n",
              "3 2020-07-06  91.438667\n",
              "4 2020-07-07  92.657333"
            ],
            "text/html": [
              "\n",
              "  <div id=\"df-1a49f288-0d0d-4b12-a703-1d04cce801c4\">\n",
              "    <div class=\"colab-df-container\">\n",
              "      <div>\n",
              "<style scoped>\n",
              "    .dataframe tbody tr th:only-of-type {\n",
              "        vertical-align: middle;\n",
              "    }\n",
              "\n",
              "    .dataframe tbody tr th {\n",
              "        vertical-align: top;\n",
              "    }\n",
              "\n",
              "    .dataframe thead th {\n",
              "        text-align: right;\n",
              "    }\n",
              "</style>\n",
              "<table border=\"1\" class=\"dataframe\">\n",
              "  <thead>\n",
              "    <tr style=\"text-align: right;\">\n",
              "      <th></th>\n",
              "      <th>Date</th>\n",
              "      <th>Close</th>\n",
              "    </tr>\n",
              "  </thead>\n",
              "  <tbody>\n",
              "    <tr>\n",
              "      <th>0</th>\n",
              "      <td>2020-06-30</td>\n",
              "      <td>71.987335</td>\n",
              "    </tr>\n",
              "    <tr>\n",
              "      <th>1</th>\n",
              "      <td>2020-07-01</td>\n",
              "      <td>74.641998</td>\n",
              "    </tr>\n",
              "    <tr>\n",
              "      <th>2</th>\n",
              "      <td>2020-07-02</td>\n",
              "      <td>80.577332</td>\n",
              "    </tr>\n",
              "    <tr>\n",
              "      <th>3</th>\n",
              "      <td>2020-07-06</td>\n",
              "      <td>91.438667</td>\n",
              "    </tr>\n",
              "    <tr>\n",
              "      <th>4</th>\n",
              "      <td>2020-07-07</td>\n",
              "      <td>92.657333</td>\n",
              "    </tr>\n",
              "  </tbody>\n",
              "</table>\n",
              "</div>\n",
              "      <button class=\"colab-df-convert\" onclick=\"convertToInteractive('df-1a49f288-0d0d-4b12-a703-1d04cce801c4')\"\n",
              "              title=\"Convert this dataframe to an interactive table.\"\n",
              "              style=\"display:none;\">\n",
              "        \n",
              "  <svg xmlns=\"http://www.w3.org/2000/svg\" height=\"24px\"viewBox=\"0 0 24 24\"\n",
              "       width=\"24px\">\n",
              "    <path d=\"M0 0h24v24H0V0z\" fill=\"none\"/>\n",
              "    <path d=\"M18.56 5.44l.94 2.06.94-2.06 2.06-.94-2.06-.94-.94-2.06-.94 2.06-2.06.94zm-11 1L8.5 8.5l.94-2.06 2.06-.94-2.06-.94L8.5 2.5l-.94 2.06-2.06.94zm10 10l.94 2.06.94-2.06 2.06-.94-2.06-.94-.94-2.06-.94 2.06-2.06.94z\"/><path d=\"M17.41 7.96l-1.37-1.37c-.4-.4-.92-.59-1.43-.59-.52 0-1.04.2-1.43.59L10.3 9.45l-7.72 7.72c-.78.78-.78 2.05 0 2.83L4 21.41c.39.39.9.59 1.41.59.51 0 1.02-.2 1.41-.59l7.78-7.78 2.81-2.81c.8-.78.8-2.07 0-2.86zM5.41 20L4 18.59l7.72-7.72 1.47 1.35L5.41 20z\"/>\n",
              "  </svg>\n",
              "      </button>\n",
              "      \n",
              "  <style>\n",
              "    .colab-df-container {\n",
              "      display:flex;\n",
              "      flex-wrap:wrap;\n",
              "      gap: 12px;\n",
              "    }\n",
              "\n",
              "    .colab-df-convert {\n",
              "      background-color: #E8F0FE;\n",
              "      border: none;\n",
              "      border-radius: 50%;\n",
              "      cursor: pointer;\n",
              "      display: none;\n",
              "      fill: #1967D2;\n",
              "      height: 32px;\n",
              "      padding: 0 0 0 0;\n",
              "      width: 32px;\n",
              "    }\n",
              "\n",
              "    .colab-df-convert:hover {\n",
              "      background-color: #E2EBFA;\n",
              "      box-shadow: 0px 1px 2px rgba(60, 64, 67, 0.3), 0px 1px 3px 1px rgba(60, 64, 67, 0.15);\n",
              "      fill: #174EA6;\n",
              "    }\n",
              "\n",
              "    [theme=dark] .colab-df-convert {\n",
              "      background-color: #3B4455;\n",
              "      fill: #D2E3FC;\n",
              "    }\n",
              "\n",
              "    [theme=dark] .colab-df-convert:hover {\n",
              "      background-color: #434B5C;\n",
              "      box-shadow: 0px 1px 3px 1px rgba(0, 0, 0, 0.15);\n",
              "      filter: drop-shadow(0px 1px 2px rgba(0, 0, 0, 0.3));\n",
              "      fill: #FFFFFF;\n",
              "    }\n",
              "  </style>\n",
              "\n",
              "      <script>\n",
              "        const buttonEl =\n",
              "          document.querySelector('#df-1a49f288-0d0d-4b12-a703-1d04cce801c4 button.colab-df-convert');\n",
              "        buttonEl.style.display =\n",
              "          google.colab.kernel.accessAllowed ? 'block' : 'none';\n",
              "\n",
              "        async function convertToInteractive(key) {\n",
              "          const element = document.querySelector('#df-1a49f288-0d0d-4b12-a703-1d04cce801c4');\n",
              "          const dataTable =\n",
              "            await google.colab.kernel.invokeFunction('convertToInteractive',\n",
              "                                                     [key], {});\n",
              "          if (!dataTable) return;\n",
              "\n",
              "          const docLinkHtml = 'Like what you see? Visit the ' +\n",
              "            '<a target=\"_blank\" href=https://colab.research.google.com/notebooks/data_table.ipynb>data table notebook</a>'\n",
              "            + ' to learn more about interactive tables.';\n",
              "          element.innerHTML = '';\n",
              "          dataTable['output_type'] = 'display_data';\n",
              "          await google.colab.output.renderOutput(dataTable, element);\n",
              "          const docLink = document.createElement('div');\n",
              "          docLink.innerHTML = docLinkHtml;\n",
              "          element.appendChild(docLink);\n",
              "        }\n",
              "      </script>\n",
              "    </div>\n",
              "  </div>\n",
              "  "
            ]
          },
          "metadata": {},
          "execution_count": 89
        }
      ]
    },
    {
      "cell_type": "code",
      "source": [
        "sns.lineplot(x=df['Date'],y=df['Close'])\n",
        "plt.show()"
      ],
      "metadata": {
        "id": "RhPePf3K-mmL",
        "colab": {
          "base_uri": "https://localhost:8080/",
          "height": 449
        },
        "outputId": "c56f0435-9577-4b03-814a-0f3ecd33778a"
      },
      "execution_count": 90,
      "outputs": [
        {
          "output_type": "display_data",
          "data": {
            "text/plain": [
              "<Figure size 640x480 with 1 Axes>"
            ],
            "image/png": "[encoded data removed]"
          },
          "metadata": {}
        }
      ]
    },
    {
      "cell_type": "code",
      "source": [
        "print(\"Start date is : \", df['Date'].min())\n",
        "print(\"Start date is : \", df['Date'].max())"
      ],
      "metadata": {
        "colab": {
          "base_uri": "https://localhost:8080/"
        },
        "id": "g3LfRMN8_rC_",
        "outputId": "ba0c9849-18d4-4be8-9a48-0560a2cbbf1e"
      },
      "execution_count": 91,
      "outputs": [
        {
          "output_type": "stream",
          "name": "stdout",
          "text": [
            "Start date is :  2020-06-30 00:00:00\n",
            "Start date is :  2023-06-29 00:00:00\n"
          ]
        }
      ]
    },
    {
      "cell_type": "markdown",
      "source": [
        "**Train Test Split**"
      ],
      "metadata": {
        "id": "WeCD9__VBcT3"
      }
    },
    {
      "cell_type": "code",
      "source": [
        "train , test = df.loc[df['Date'] < '2023-01-01'] , df.loc[df['Date'] >= '2023-01-01']"
      ],
      "metadata": {
        "id": "z5cxjwDMArfg"
      },
      "execution_count": 92,
      "outputs": []
    },
    {
      "cell_type": "code",
      "source": [
        "train.sample(10)"
      ],
      "metadata": {
        "colab": {
          "base_uri": "https://localhost:8080/",
          "height": 363
        },
        "id": "pys6dJLvCK0Y",
        "outputId": "23c17ebb-a388-404f-ecd3-e8445b8a24be"
      },
      "execution_count": 93,
      "outputs": [
        {
          "output_type": "execute_result",
          "data": {
            "text/plain": [
              "          Date       Close\n",
              "404 2022-02-04  307.773346\n",
              "489 2022-06-08  241.866669\n",
              "435 2022-03-22  331.326660\n",
              "113 2020-12-09  201.493332\n",
              "569 2022-10-03  242.399994\n",
              "231 2021-06-01  207.966660\n",
              "55  2020-09-17  141.143326\n",
              "387 2022-01-11  354.799988\n",
              "341 2021-11-04  409.970001\n",
              "72  2020-10-12  147.433334"
            ],
            "text/html": [
              "\n",
              "  <div id=\"df-29f197d2-6cd3-4570-9a35-af14517b33f9\">\n",
              "    <div class=\"colab-df-container\">\n",
              "      <div>\n",
              "<style scoped>\n",
              "    .dataframe tbody tr th:only-of-type {\n",
              "        vertical-align: middle;\n",
              "    }\n",
              "\n",
              "    .dataframe tbody tr th {\n",
              "        vertical-align: top;\n",
              "    }\n",
              "\n",
              "    .dataframe thead th {\n",
              "        text-align: right;\n",
              "    }\n",
              "</style>\n",
              "<table border=\"1\" class=\"dataframe\">\n",
              "  <thead>\n",
              "    <tr style=\"text-align: right;\">\n",
              "      <th></th>\n",
              "      <th>Date</th>\n",
              "      <th>Close</th>\n",
              "    </tr>\n",
              "  </thead>\n",
              "  <tbody>\n",
              "    <tr>\n",
              "      <th>404</th>\n",
              "      <td>2022-02-04</td>\n",
              "      <td>307.773346</td>\n",
              "    </tr>\n",
              "    <tr>\n",
              "      <th>489</th>\n",
              "      <td>2022-06-08</td>\n",
              "      <td>241.866669</td>\n",
              "    </tr>\n",
              "    <tr>\n",
              "      <th>435</th>\n",
              "      <td>2022-03-22</td>\n",
              "      <td>331.326660</td>\n",
              "    </tr>\n",
              "    <tr>\n",
              "      <th>113</th>\n",
              "      <td>2020-12-09</td>\n",
              "      <td>201.493332</td>\n",
              "    </tr>\n",
              "    <tr>\n",
              "      <th>569</th>\n",
              "      <td>2022-10-03</td>\n",
              "      <td>242.399994</td>\n",
              "    </tr>\n",
              "    <tr>\n",
              "      <th>231</th>\n",
              "      <td>2021-06-01</td>\n",
              "      <td>207.966660</td>\n",
              "    </tr>\n",
              "    <tr>\n",
              "      <th>55</th>\n",
              "      <td>2020-09-17</td>\n",
              "      <td>141.143326</td>\n",
              "    </tr>\n",
              "    <tr>\n",
              "      <th>387</th>\n",
              "      <td>2022-01-11</td>\n",
              "      <td>354.799988</td>\n",
              "    </tr>\n",
              "    <tr>\n",
              "      <th>341</th>\n",
              "      <td>2021-11-04</td>\n",
              "      <td>409.970001</td>\n",
              "    </tr>\n",
              "    <tr>\n",
              "      <th>72</th>\n",
              "      <td>2020-10-12</td>\n",
              "      <td>147.433334</td>\n",
              "    </tr>\n",
              "  </tbody>\n",
              "</table>\n",
              "</div>\n",
              "      <button class=\"colab-df-convert\" onclick=\"convertToInteractive('df-29f197d2-6cd3-4570-9a35-af14517b33f9')\"\n",
              "              title=\"Convert this dataframe to an interactive table.\"\n",
              "              style=\"display:none;\">\n",
              "        \n",
              "  <svg xmlns=\"http://www.w3.org/2000/svg\" height=\"24px\"viewBox=\"0 0 24 24\"\n",
              "       width=\"24px\">\n",
              "    <path d=\"M0 0h24v24H0V0z\" fill=\"none\"/>\n",
              "    <path d=\"M18.56 5.44l.94 2.06.94-2.06 2.06-.94-2.06-.94-.94-2.06-.94 2.06-2.06.94zm-11 1L8.5 8.5l.94-2.06 2.06-.94-2.06-.94L8.5 2.5l-.94 2.06-2.06.94zm10 10l.94 2.06.94-2.06 2.06-.94-2.06-.94-.94-2.06-.94 2.06-2.06.94z\"/><path d=\"M17.41 7.96l-1.37-1.37c-.4-.4-.92-.59-1.43-.59-.52 0-1.04.2-1.43.59L10.3 9.45l-7.72 7.72c-.78.78-.78 2.05 0 2.83L4 21.41c.39.39.9.59 1.41.59.51 0 1.02-.2 1.41-.59l7.78-7.78 2.81-2.81c.8-.78.8-2.07 0-2.86zM5.41 20L4 18.59l7.72-7.72 1.47 1.35L5.41 20z\"/>\n",
              "  </svg>\n",
              "      </button>\n",
              "      \n",
              "  <style>\n",
              "    .colab-df-container {\n",
              "      display:flex;\n",
              "      flex-wrap:wrap;\n",
              "      gap: 12px;\n",
              "    }\n",
              "\n",
              "    .colab-df-convert {\n",
              "      background-color: #E8F0FE;\n",
              "      border: none;\n",
              "      border-radius: 50%;\n",
              "      cursor: pointer;\n",
              "      display: none;\n",
              "      fill: #1967D2;\n",
              "      height: 32px;\n",
              "      padding: 0 0 0 0;\n",
              "      width: 32px;\n",
              "    }\n",
              "\n",
              "    .colab-df-convert:hover {\n",
              "      background-color: #E2EBFA;\n",
              "      box-shadow: 0px 1px 2px rgba(60, 64, 67, 0.3), 0px 1px 3px 1px rgba(60, 64, 67, 0.15);\n",
              "      fill: #174EA6;\n",
              "    }\n",
              "\n",
              "    [theme=dark] .colab-df-convert {\n",
              "      background-color: #3B4455;\n",
              "      fill: #D2E3FC;\n",
              "    }\n",
              "\n",
              "    [theme=dark] .colab-df-convert:hover {\n",
              "      background-color: #434B5C;\n",
              "      box-shadow: 0px 1px 3px 1px rgba(0, 0, 0, 0.15);\n",
              "      filter: drop-shadow(0px 1px 2px rgba(0, 0, 0, 0.3));\n",
              "      fill: #FFFFFF;\n",
              "    }\n",
              "  </style>\n",
              "\n",
              "      <script>\n",
              "        const buttonEl =\n",
              "          document.querySelector('#df-29f197d2-6cd3-4570-9a35-af14517b33f9 button.colab-df-convert');\n",
              "        buttonEl.style.display =\n",
              "          google.colab.kernel.accessAllowed ? 'block' : 'none';\n",
              "\n",
              "        async function convertToInteractive(key) {\n",
              "          const element = document.querySelector('#df-29f197d2-6cd3-4570-9a35-af14517b33f9');\n",
              "          const dataTable =\n",
              "            await google.colab.kernel.invokeFunction('convertToInteractive',\n",
              "                                                     [key], {});\n",
              "          if (!dataTable) return;\n",
              "\n",
              "          const docLinkHtml = 'Like what you see? Visit the ' +\n",
              "            '<a target=\"_blank\" href=https://colab.research.google.com/notebooks/data_table.ipynb>data table notebook</a>'\n",
              "            + ' to learn more about interactive tables.';\n",
              "          element.innerHTML = '';\n",
              "          dataTable['output_type'] = 'display_data';\n",
              "          await google.colab.output.renderOutput(dataTable, element);\n",
              "          const docLink = document.createElement('div');\n",
              "          docLink.innerHTML = docLinkHtml;\n",
              "          element.appendChild(docLink);\n",
              "        }\n",
              "      </script>\n",
              "    </div>\n",
              "  </div>\n",
              "  "
            ]
          },
          "metadata": {},
          "execution_count": 93
        }
      ]
    },
    {
      "cell_type": "code",
      "source": [
        "scaler = StandardScaler()\n",
        "scaler = scaler.fit(train[['Close']])"
      ],
      "metadata": {
        "id": "r3tmHRC3CMXf"
      },
      "execution_count": 94,
      "outputs": []
    },
    {
      "cell_type": "code",
      "source": [
        "train['Close'] = scaler.transform(train[['Close']])\n",
        "test['Close'] = scaler.transform(test[['Close']])"
      ],
      "metadata": {
        "colab": {
          "base_uri": "https://localhost:8080/"
        },
        "id": "HxxXPGjADxA3",
        "outputId": "8b6f2caa-e5e1-4ed6-f1de-cd2e161357d9"
      },
      "execution_count": 95,
      "outputs": [
        {
          "output_type": "stream",
          "name": "stderr",
          "text": [
            "<ipython-input-95-c7bfe784ac5d>:1: SettingWithCopyWarning: \n",
            "A value is trying to be set on a copy of a slice from a DataFrame.\n",
            "Try using .loc[row_indexer,col_indexer] = value instead\n",
            "\n",
            "See the caveats in the documentation: https://pandas.pydata.org/pandas-docs/stable/user_guide/indexing.html#returning-a-view-versus-a-copy\n",
            "  train['Close'] = scaler.transform(train[['Close']])\n",
            "<ipython-input-95-c7bfe784ac5d>:2: SettingWithCopyWarning: \n",
            "A value is trying to be set on a copy of a slice from a DataFrame.\n",
            "Try using .loc[row_indexer,col_indexer] = value instead\n",
            "\n",
            "See the caveats in the documentation: https://pandas.pydata.org/pandas-docs/stable/user_guide/indexing.html#returning-a-view-versus-a-copy\n",
            "  test['Close'] = scaler.transform(test[['Close']])\n"
          ]
        }
      ]
    },
    {
      "cell_type": "code",
      "source": [
        "train.sample(5)"
      ],
      "metadata": {
        "colab": {
          "base_uri": "https://localhost:8080/",
          "height": 206
        },
        "id": "bX69XVEYFc4J",
        "outputId": "d11d6873-ca1a-495a-a3aa-1d2f746fdf77"
      },
      "execution_count": 96,
      "outputs": [
        {
          "output_type": "execute_result",
          "data": {
            "text/plain": [
              "          Date     Close\n",
              "193 2021-04-07 -0.195170\n",
              "270 2021-07-27 -0.318167\n",
              "365 2021-12-09  1.367904\n",
              "45  2020-09-02 -1.245266\n",
              "456 2022-04-21  1.391292"
            ],
            "text/html": [
              "\n",
              "  <div id=\"df-5965ef99-23a2-4ad1-a59d-fb11a7e32cf3\">\n",
              "    <div class=\"colab-df-container\">\n",
              "      <div>\n",
              "<style scoped>\n",
              "    .dataframe tbody tr th:only-of-type {\n",
              "        vertical-align: middle;\n",
              "    }\n",
              "\n",
              "    .dataframe tbody tr th {\n",
              "        vertical-align: top;\n",
              "    }\n",
              "\n",
              "    .dataframe thead th {\n",
              "        text-align: right;\n",
              "    }\n",
              "</style>\n",
              "<table border=\"1\" class=\"dataframe\">\n",
              "  <thead>\n",
              "    <tr style=\"text-align: right;\">\n",
              "      <th></th>\n",
              "      <th>Date</th>\n",
              "      <th>Close</th>\n",
              "    </tr>\n",
              "  </thead>\n",
              "  <tbody>\n",
              "    <tr>\n",
              "      <th>193</th>\n",
              "      <td>2021-04-07</td>\n",
              "      <td>-0.195170</td>\n",
              "    </tr>\n",
              "    <tr>\n",
              "      <th>270</th>\n",
              "      <td>2021-07-27</td>\n",
              "      <td>-0.318167</td>\n",
              "    </tr>\n",
              "    <tr>\n",
              "      <th>365</th>\n",
              "      <td>2021-12-09</td>\n",
              "      <td>1.367904</td>\n",
              "    </tr>\n",
              "    <tr>\n",
              "      <th>45</th>\n",
              "      <td>2020-09-02</td>\n",
              "      <td>-1.245266</td>\n",
              "    </tr>\n",
              "    <tr>\n",
              "      <th>456</th>\n",
              "      <td>2022-04-21</td>\n",
              "      <td>1.391292</td>\n",
              "    </tr>\n",
              "  </tbody>\n",
              "</table>\n",
              "</div>\n",
              "      <button class=\"colab-df-convert\" onclick=\"convertToInteractive('df-5965ef99-23a2-4ad1-a59d-fb11a7e32cf3')\"\n",
              "              title=\"Convert this dataframe to an interactive table.\"\n",
              "              style=\"display:none;\">\n",
              "        \n",
              "  <svg xmlns=\"http://www.w3.org/2000/svg\" height=\"24px\"viewBox=\"0 0 24 24\"\n",
              "       width=\"24px\">\n",
              "    <path d=\"M0 0h24v24H0V0z\" fill=\"none\"/>\n",
              "    <path d=\"M18.56 5.44l.94 2.06.94-2.06 2.06-.94-2.06-.94-.94-2.06-.94 2.06-2.06.94zm-11 1L8.5 8.5l.94-2.06 2.06-.94-2.06-.94L8.5 2.5l-.94 2.06-2.06.94zm10 10l.94 2.06.94-2.06 2.06-.94-2.06-.94-.94-2.06-.94 2.06-2.06.94z\"/><path d=\"M17.41 7.96l-1.37-1.37c-.4-.4-.92-.59-1.43-.59-.52 0-1.04.2-1.43.59L10.3 9.45l-7.72 7.72c-.78.78-.78 2.05 0 2.83L4 21.41c.39.39.9.59 1.41.59.51 0 1.02-.2 1.41-.59l7.78-7.78 2.81-2.81c.8-.78.8-2.07 0-2.86zM5.41 20L4 18.59l7.72-7.72 1.47 1.35L5.41 20z\"/>\n",
              "  </svg>\n",
              "      </button>\n",
              "      \n",
              "  <style>\n",
              "    .colab-df-container {\n",
              "      display:flex;\n",
              "      flex-wrap:wrap;\n",
              "      gap: 12px;\n",
              "    }\n",
              "\n",
              "    .colab-df-convert {\n",
              "      background-color: #E8F0FE;\n",
              "      border: none;\n",
              "      border-radius: 50%;\n",
              "      cursor: pointer;\n",
              "      display: none;\n",
              "      fill: #1967D2;\n",
              "      height: 32px;\n",
              "      padding: 0 0 0 0;\n",
              "      width: 32px;\n",
              "    }\n",
              "\n",
              "    .colab-df-convert:hover {\n",
              "      background-color: #E2EBFA;\n",
              "      box-shadow: 0px 1px 2px rgba(60, 64, 67, 0.3), 0px 1px 3px 1px rgba(60, 64, 67, 0.15);\n",
              "      fill: #174EA6;\n",
              "    }\n",
              "\n",
              "    [theme=dark] .colab-df-convert {\n",
              "      background-color: #3B4455;\n",
              "      fill: #D2E3FC;\n",
              "    }\n",
              "\n",
              "    [theme=dark] .colab-df-convert:hover {\n",
              "      background-color: #434B5C;\n",
              "      box-shadow: 0px 1px 3px 1px rgba(0, 0, 0, 0.15);\n",
              "      filter: drop-shadow(0px 1px 2px rgba(0, 0, 0, 0.3));\n",
              "      fill: #FFFFFF;\n",
              "    }\n",
              "  </style>\n",
              "\n",
              "      <script>\n",
              "        const buttonEl =\n",
              "          document.querySelector('#df-5965ef99-23a2-4ad1-a59d-fb11a7e32cf3 button.colab-df-convert');\n",
              "        buttonEl.style.display =\n",
              "          google.colab.kernel.accessAllowed ? 'block' : 'none';\n",
              "\n",
              "        async function convertToInteractive(key) {\n",
              "          const element = document.querySelector('#df-5965ef99-23a2-4ad1-a59d-fb11a7e32cf3');\n",
              "          const dataTable =\n",
              "            await google.colab.kernel.invokeFunction('convertToInteractive',\n",
              "                                                     [key], {});\n",
              "          if (!dataTable) return;\n",
              "\n",
              "          const docLinkHtml = 'Like what you see? Visit the ' +\n",
              "            '<a target=\"_blank\" href=https://colab.research.google.com/notebooks/data_table.ipynb>data table notebook</a>'\n",
              "            + ' to learn more about interactive tables.';\n",
              "          element.innerHTML = '';\n",
              "          dataTable['output_type'] = 'display_data';\n",
              "          await google.colab.output.renderOutput(dataTable, element);\n",
              "          const docLink = document.createElement('div');\n",
              "          docLink.innerHTML = docLinkHtml;\n",
              "          element.appendChild(docLink);\n",
              "        }\n",
              "      </script>\n",
              "    </div>\n",
              "  </div>\n",
              "  "
            ]
          },
          "metadata": {},
          "execution_count": 96
        }
      ]
    },
    {
      "cell_type": "code",
      "source": [
        "seq_size = 30\n",
        "\n",
        "def to_sequences(x,y, seq_size=1):\n",
        "  x_value = []\n",
        "  y_value = []\n",
        "\n",
        "  for i in range(len(x)-seq_size):\n",
        "    x_value.append(x.iloc[i:(i+seq_size)].values)\n",
        "    y_value.append(y.iloc[i:(i+seq_size)])\n",
        "\n",
        "  return np.array(x_value), np.array(y_value)\n"
      ],
      "metadata": {
        "id": "E7SX-2LCE8j5"
      },
      "execution_count": 97,
      "outputs": []
    },
    {
      "cell_type": "code",
      "source": [
        "trainX , trainY = to_sequences(train[['Close']], train[['Close']], seq_size)\n",
        "testX , testY = to_sequences(test[['Close']], test[['Close']], seq_size)"
      ],
      "metadata": {
        "id": "kFkgWpadHu6g"
      },
      "execution_count": 98,
      "outputs": []
    },
    {
      "cell_type": "code",
      "source": [
        "trainX[0]"
      ],
      "metadata": {
        "colab": {
          "base_uri": "https://localhost:8080/"
        },
        "id": "ZyablZXaLJ_q",
        "outputId": "93d8b509-6035-4798-f037-eb2d780b4a90"
      },
      "execution_count": 99,
      "outputs": [
        {
          "output_type": "execute_result",
          "data": {
            "text/plain": [
              "array([[-2.33203131],\n",
              "       [-2.29462991],\n",
              "       [-2.21100731],\n",
              "       [-2.05798255],\n",
              "       [-2.04081283],\n",
              "       [-2.0633363 ],\n",
              "       [-2.03666124],\n",
              "       [-1.89542426],\n",
              "       [-1.94012381],\n",
              "       [-1.92158273],\n",
              "       [-1.89414696],\n",
              "       [-1.9367613 ],\n",
              "       [-1.93657341],\n",
              "       [-1.80304778],\n",
              "       [-1.87315434],\n",
              "       [-1.85064022],\n",
              "       [-1.92508627],\n",
              "       [-2.01532122],\n",
              "       [-1.90016759],\n",
              "       [-1.9594444 ],\n",
              "       [-1.93819834],\n",
              "       [-1.94911257],\n",
              "       [-2.00239692],\n",
              "       [-1.95145134],\n",
              "       [-1.94957284],\n",
              "       [-1.95143253],\n",
              "       [-1.94714947],\n",
              "       [-1.9817801 ],\n",
              "       [-2.01384656],\n",
              "       [-2.05534324]])"
            ]
          },
          "metadata": {},
          "execution_count": 99
        }
      ]
    },
    {
      "cell_type": "code",
      "source": [
        "trainX.shape"
      ],
      "metadata": {
        "colab": {
          "base_uri": "https://localhost:8080/"
        },
        "id": "Lvvq6vhjLA9T",
        "outputId": "c912d150-5786-45b4-aa47-dfc5a828a821"
      },
      "execution_count": 100,
      "outputs": [
        {
          "output_type": "execute_result",
          "data": {
            "text/plain": [
              "(602, 30, 1)"
            ]
          },
          "metadata": {},
          "execution_count": 100
        }
      ]
    },
    {
      "cell_type": "code",
      "source": [
        "model = Sequential()\n",
        "model.add(LSTM(128, input_shape=(trainX.shape[1], trainX.shape[2])))\n",
        "model.add(Dropout(rate=0.2))\n",
        "\n",
        "model.add(RepeatVector(trainX.shape[1]))\n",
        "\n",
        "model.add(LSTM(128, return_sequences=True))\n",
        "model.add(Dropout(rate=0.2))\n",
        "model.add(TimeDistributed(Dense(trainX.shape[2])))\n",
        "\n",
        "\n",
        "model.compile(optimizer='adam', loss='mae')\n",
        "model.summary()"
      ],
      "metadata": {
        "colab": {
          "base_uri": "https://localhost:8080/"
        },
        "id": "2Zk9zNB_IGYY",
        "outputId": "95f13e53-5312-4f0b-ef96-1971ecebdbd5"
      },
      "execution_count": 101,
      "outputs": [
        {
          "output_type": "stream",
          "name": "stdout",
          "text": [
            "Model: \"sequential_4\"\n",
            "_________________________________________________________________\n",
            " Layer (type)                Output Shape              Param #   \n",
            "=================================================================\n",
            " lstm_8 (LSTM)               (None, 128)               66560     \n",
            "                                                                 \n",
            " dropout_8 (Dropout)         (None, 128)               0         \n",
            "                                                                 \n",
            " repeat_vector_4 (RepeatVect  (None, 30, 128)          0         \n",
            " or)                                                             \n",
            "                                                                 \n",
            " lstm_9 (LSTM)               (None, 30, 128)           131584    \n",
            "                                                                 \n",
            " dropout_9 (Dropout)         (None, 30, 128)           0         \n",
            "                                                                 \n",
            " time_distributed_4 (TimeDis  (None, 30, 1)            129       \n",
            " tributed)                                                       \n",
            "                                                                 \n",
            "=================================================================\n",
            "Total params: 198,273\n",
            "Trainable params: 198,273\n",
            "Non-trainable params: 0\n",
            "_________________________________________________________________\n"
          ]
        }
      ]
    },
    {
      "cell_type": "code",
      "source": [
        "history = model.fit(trainX,trainY, epochs=30, batch_size=32, validation_split=0.1)"
      ],
      "metadata": {
        "id": "diwdbfpnMeQx",
        "colab": {
          "base_uri": "https://localhost:8080/"
        },
        "outputId": "3e6c45b0-c467-411a-9a60-2a06828e60ae"
      },
      "execution_count": 102,
      "outputs": [
        {
          "output_type": "stream",
          "name": "stdout",
          "text": [
            "Epoch 1/30\n",
            "17/17 [==============================] - 8s 230ms/step - loss: 0.3960 - val_loss: 0.3972\n",
            "Epoch 2/30\n",
            "17/17 [==============================] - 2s 103ms/step - loss: 0.2849 - val_loss: 0.3381\n",
            "Epoch 3/30\n",
            "17/17 [==============================] - 2s 99ms/step - loss: 0.2583 - val_loss: 0.2882\n",
            "Epoch 4/30\n",
            "17/17 [==============================] - 2s 98ms/step - loss: 0.2464 - val_loss: 0.2787\n",
            "Epoch 5/30\n",
            "17/17 [==============================] - 2s 104ms/step - loss: 0.2471 - val_loss: 0.2503\n",
            "Epoch 6/30\n",
            "17/17 [==============================] - 2s 99ms/step - loss: 0.2263 - val_loss: 0.2336\n",
            "Epoch 7/30\n",
            "17/17 [==============================] - 3s 168ms/step - loss: 0.2105 - val_loss: 0.2220\n",
            "Epoch 8/30\n",
            "17/17 [==============================] - 2s 113ms/step - loss: 0.1975 - val_loss: 0.1872\n",
            "Epoch 9/30\n",
            "17/17 [==============================] - 2s 99ms/step - loss: 0.1872 - val_loss: 0.1708\n",
            "Epoch 10/30\n",
            "17/17 [==============================] - 2s 97ms/step - loss: 0.1757 - val_loss: 0.1630\n",
            "Epoch 11/30\n",
            "17/17 [==============================] - 2s 99ms/step - loss: 0.1793 - val_loss: 0.1695\n",
            "Epoch 12/30\n",
            "17/17 [==============================] - 2s 97ms/step - loss: 0.1713 - val_loss: 0.1514\n",
            "Epoch 13/30\n",
            "17/17 [==============================] - 2s 102ms/step - loss: 0.1717 - val_loss: 0.1528\n",
            "Epoch 14/30\n",
            "17/17 [==============================] - 3s 176ms/step - loss: 0.1681 - val_loss: 0.1578\n",
            "Epoch 15/30\n",
            "17/17 [==============================] - 2s 101ms/step - loss: 0.1671 - val_loss: 0.1432\n",
            "Epoch 16/30\n",
            "17/17 [==============================] - 2s 99ms/step - loss: 0.1671 - val_loss: 0.1415\n",
            "Epoch 17/30\n",
            "17/17 [==============================] - 2s 99ms/step - loss: 0.1728 - val_loss: 0.1762\n",
            "Epoch 18/30\n",
            "17/17 [==============================] - 2s 104ms/step - loss: 0.1632 - val_loss: 0.1407\n",
            "Epoch 19/30\n",
            "17/17 [==============================] - 2s 98ms/step - loss: 0.1571 - val_loss: 0.1338\n",
            "Epoch 20/30\n",
            "17/17 [==============================] - 2s 105ms/step - loss: 0.1529 - val_loss: 0.1264\n",
            "Epoch 21/30\n",
            "17/17 [==============================] - 3s 174ms/step - loss: 0.1501 - val_loss: 0.1179\n",
            "Epoch 22/30\n",
            "17/17 [==============================] - 2s 102ms/step - loss: 0.1505 - val_loss: 0.1288\n",
            "Epoch 23/30\n",
            "17/17 [==============================] - 2s 101ms/step - loss: 0.1480 - val_loss: 0.1300\n",
            "Epoch 24/30\n",
            "17/17 [==============================] - 2s 100ms/step - loss: 0.1499 - val_loss: 0.1318\n",
            "Epoch 25/30\n",
            "17/17 [==============================] - 2s 99ms/step - loss: 0.1460 - val_loss: 0.1201\n",
            "Epoch 26/30\n",
            "17/17 [==============================] - 2s 99ms/step - loss: 0.1446 - val_loss: 0.1222\n",
            "Epoch 27/30\n",
            "17/17 [==============================] - 2s 117ms/step - loss: 0.1446 - val_loss: 0.1155\n",
            "Epoch 28/30\n",
            "17/17 [==============================] - 3s 158ms/step - loss: 0.1400 - val_loss: 0.1200\n",
            "Epoch 29/30\n",
            "17/17 [==============================] - 2s 99ms/step - loss: 0.1366 - val_loss: 0.1170\n",
            "Epoch 30/30\n",
            "17/17 [==============================] - 2s 98ms/step - loss: 0.1376 - val_loss: 0.1168\n"
          ]
        }
      ]
    },
    {
      "cell_type": "code",
      "source": [
        "plt.plot(history.history['loss'], label='Training loss')\n",
        "plt.plot(history.history['val_loss'], label='Validation loss')\n",
        "plt.legend()"
      ],
      "metadata": {
        "colab": {
          "base_uri": "https://localhost:8080/",
          "height": 447
        },
        "id": "R832-NPRiNIH",
        "outputId": "6d664688-11f1-40b0-de0c-787824c72864"
      },
      "execution_count": 103,
      "outputs": [
        {
          "output_type": "execute_result",
          "data": {
            "text/plain": [
              "<matplotlib.legend.Legend at 0x7fcfb17ffc10>"
            ]
          },
          "metadata": {},
          "execution_count": 103
        },
        {
          "output_type": "display_data",
          "data": {
            "text/plain": [
              "<Figure size 640x480 with 1 Axes>"
            ],
            "image/png": "[encoded data removed]"
          },
          "metadata": {}
        }
      ]
    },
    {
      "cell_type": "code",
      "source": [
        "trainPredict = model.predict(trainX)\n",
        "trainMAE = np.mean(np.abs(trainPredict-trainX), axis=1)\n",
        "plt.hist(trainMAE, bins=30)\n",
        "plt.show()"
      ],
      "metadata": {
        "id": "gWE_l1Pki03v",
        "colab": {
          "base_uri": "https://localhost:8080/",
          "height": 447
        },
        "outputId": "2dde249f-3439-4233-d808-1e44d064f676"
      },
      "execution_count": 104,
      "outputs": [
        {
          "output_type": "stream",
          "name": "stdout",
          "text": [
            "19/19 [==============================] - 1s 30ms/step\n"
          ]
        },
        {
          "output_type": "display_data",
          "data": {
            "text/plain": [
              "<Figure size 640x480 with 1 Axes>"
            ],
            "image/png": "[encoded data removed]"
          },
          "metadata": {}
        }
      ]
    },
    {
      "cell_type": "code",
      "source": [
        "testPredict = model.predict(testX)\n",
        "testMAE = np.mean(np.abs(testPredict-testX),axis=1)\n",
        "plt.hist(trainMAE, bins=30)\n",
        "plt.show()"
      ],
      "metadata": {
        "colab": {
          "base_uri": "https://localhost:8080/",
          "height": 447
        },
        "id": "YPxoGxAWmdpH",
        "outputId": "60d7ca60-d2f4-4d90-f0a7-92a46932d880"
      },
      "execution_count": 105,
      "outputs": [
        {
          "output_type": "stream",
          "name": "stdout",
          "text": [
            "3/3 [==============================] - 0s 27ms/step\n"
          ]
        },
        {
          "output_type": "display_data",
          "data": {
            "text/plain": [
              "<Figure size 640x480 with 1 Axes>"
            ],
            "image/png": "[encoded data removed]"
          },
          "metadata": {}
        }
      ]
    },
    {
      "cell_type": "code",
      "source": [
        "max_trainMAE = 0.12  # threshold value\n",
        "anomaly_df = pd.DataFrame(test[seq_size:])\n",
        "anomaly_df['testMAE'] = testMAE\n",
        "anomaly_df['max_trainMAE'] = max_trainMAE\n",
        "anomaly_df['anomaly'] = anomaly_df['testMAE'] > anomaly_df['max_trainMAE']\n",
        "anomaly_df['Close'] = test[seq_size:]['Close']"
      ],
      "metadata": {
        "id": "wdRfMjRQlk1x"
      },
      "execution_count": 112,
      "outputs": []
    },
    {
      "cell_type": "code",
      "source": [
        "sns.lineplot(x=anomaly_df['Date'], y=anomaly_df['testMAE'])\n",
        "sns.lineplot(x=anomaly_df['Date'], y=anomaly_df['max_trainMAE'])"
      ],
      "metadata": {
        "colab": {
          "base_uri": "https://localhost:8080/",
          "height": 466
        },
        "id": "5Nmiv9gQomCX",
        "outputId": "3181b1d4-3314-46c8-f9f3-2fc44333c2f8"
      },
      "execution_count": 113,
      "outputs": [
        {
          "output_type": "execute_result",
          "data": {
            "text/plain": [
              "<Axes: xlabel='Date', ylabel='testMAE'>"
            ]
          },
          "metadata": {},
          "execution_count": 113
        },
        {
          "output_type": "display_data",
          "data": {
            "text/plain": [
              "<Figure size 640x480 with 1 Axes>"
            ],
            "image/png": "[encoded data removed]"
          },
          "metadata": {}
        }
      ]
    },
    {
      "cell_type": "code",
      "source": [
        "anomalies = anomaly_df.loc[anomaly_df['anomaly'] == True]\n",
        "print(anomalies)"
      ],
      "metadata": {
        "colab": {
          "base_uri": "https://localhost:8080/"
        },
        "id": "9n5ud4Ojo9BH",
        "outputId": "97c5a753-899f-4f76-8db4-8f2152db624d"
      },
      "execution_count": 116,
      "outputs": [
        {
          "output_type": "stream",
          "name": "stdout",
          "text": [
            "          Date     Close   testMAE  max_trainMAE  anomaly\n",
            "663 2023-02-16 -0.499726  0.123787          0.12     True\n",
            "664 2023-02-17 -0.411389  0.123630          0.12     True\n",
            "665 2023-02-21 -0.565522  0.124153          0.12     True\n",
            "666 2023-02-22 -0.516351  0.121974          0.12     True\n",
            "667 2023-02-23 -0.499304  0.123267          0.12     True\n",
            "668 2023-02-24 -0.572425  0.125287          0.12     True\n",
            "669 2023-02-27 -0.420969  0.127377          0.12     True\n",
            "670 2023-02-28 -0.448020  0.129901          0.12     True\n",
            "671 2023-03-01 -0.489441  0.130009          0.12     True\n",
            "672 2023-03-02 -0.656677  0.129420          0.12     True\n",
            "673 2023-03-03 -0.559604  0.124976          0.12     True\n"
          ]
        }
      ]
    },
    {
      "cell_type": "code",
      "source": [
        "close_values = scaler.inverse_transform(anomaly_df['Close'].values.reshape(-1, 1))\n",
        "anomaly_close = scaler.inverse_transform(anomalies['Close'].values.reshape(-1, 1))"
      ],
      "metadata": {
        "id": "u27MDSIjp2wn"
      },
      "execution_count": 118,
      "outputs": []
    },
    {
      "cell_type": "code",
      "source": [
        "sns.lineplot(x=anomaly_df['Date'], y=close_values.flatten())\n",
        "sns.scatterplot(x=anomalies['Date'], y=anomaly_close.flatten(), color='r')\n",
        "plt.show()"
      ],
      "metadata": {
        "colab": {
          "base_uri": "https://localhost:8080/",
          "height": 454
        },
        "id": "RiiXYsYzqQoA",
        "outputId": "422d5aa9-2025-4130-e379-49410cc682f6"
      },
      "execution_count": 119,
      "outputs": [
        {
          "output_type": "display_data",
          "data": {
            "text/plain": [
              "<Figure size 640x480 with 1 Axes>"
            ],
            "image/png": "[encoded data removed]"
          },
          "metadata": {}
        }
      ]
    }
  ]
}